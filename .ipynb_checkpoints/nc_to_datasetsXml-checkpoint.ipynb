{
 "cells": [
  {
   "cell_type": "markdown",
   "metadata": {},
   "source": [
    "# Create ERDDAP dataset.xml from NetCDF file\n",
    "Create an ERDDAP <dataset> snippet by reading a NetCDF CF-1.6 DSG **`featureType=TimeSeries`** file"
   ]
  },
  {
   "cell_type": "code",
   "execution_count": 1,
   "metadata": {
    "ExecuteTime": {
     "end_time": "2017-02-02T15:08:48.606795",
     "start_time": "2017-02-02T15:08:48.226073"
    },
    "collapsed": false
   },
   "outputs": [],
   "source": [
    "import numpy as np\n",
    "import netCDF4\n",
    "import uuid\n",
    "import string\n",
    "from jinja2 import Environment, FileSystemLoader\n",
    "env = Environment(loader=FileSystemLoader('templates'))"
   ]
  },
  {
   "cell_type": "code",
   "execution_count": 2,
   "metadata": {
    "ExecuteTime": {
     "end_time": "2017-02-02T15:08:48.638856",
     "start_time": "2017-02-02T15:08:48.609801"
    },
    "collapsed": false
   },
   "outputs": [
    {
     "name": "stdout",
     "output_type": "stream",
     "text": [
      "b2e7_ca3a_84a6\n"
     ]
    }
   ],
   "source": [
    "# generate random 12 digit string for DatasetID\n",
    "rstr = uuid.uuid4().hex[0:12]\n",
    "rstr=('{}_{}_{}'.format(rstr[:4],rstr[4:8],rstr[8:]))\n",
    "print(rstr)"
   ]
  },
  {
   "cell_type": "code",
   "execution_count": 3,
   "metadata": {
    "ExecuteTime": {
     "end_time": "2017-02-02T15:08:48.680935",
     "start_time": "2017-02-02T15:08:48.643865"
    },
    "collapsed": false
   },
   "outputs": [],
   "source": [
    "ncfile = '20170129.superv.nc'\n",
    "#ncfile = 'joe_example.nc'\n",
    "nc = netCDF4.Dataset(ncfile)"
   ]
  },
  {
   "cell_type": "code",
   "execution_count": 4,
   "metadata": {
    "ExecuteTime": {
     "end_time": "2017-02-02T15:08:48.696966",
     "start_time": "2017-02-02T15:08:48.683941"
    },
    "collapsed": false
   },
   "outputs": [],
   "source": [
    "# information specific to dataset\n",
    "datasetID='ooi_'+rstr\n",
    "reloadEveryNMinutes='10'\n",
    "fileDir='/usgs/data2/rsignell/data/ooi'\n",
    "fileNameRegex='.*superv\\.nc'\n",
    "subsetVariables='feature_type_instance, latitude, longitude, platform'\n",
    "infoUrl='http://ceoas.oregonstate.edu/ooi'\n",
    "cdm_timeseries_variables = subsetVariables\n",
    "keywords = ','.join(list(nc.variables))"
   ]
  },
  {
   "cell_type": "markdown",
   "metadata": {},
   "source": [
    "ERDDAP Valid values are: double (64-bit floating point), float (32-bit floating point), long (64-bit signed integer), int (32-bit signed integer), short (16-bit signed integer), byte (8-bit signed integer), char (essentially: 16-bit unsigned integer), boolean, and String (any length)."
   ]
  },
  {
   "cell_type": "code",
   "execution_count": 5,
   "metadata": {
    "ExecuteTime": {
     "end_time": "2017-02-02T15:08:48.716002",
     "start_time": "2017-02-02T15:08:48.700973"
    },
    "collapsed": true
   },
   "outputs": [],
   "source": [
    "dmap = {'float64':'double',\n",
    "        'float32':'float',\n",
    "        'int64':'long',\n",
    "        'int32':'int',\n",
    "        'int16':'short',\n",
    "        'b':'byte',\n",
    "        'uint16':'char',\n",
    "        'bool':'boolean',\n",
    "        'S1':'String',\n",
    "        'bytes8':'String'}"
   ]
  },
  {
   "cell_type": "code",
   "execution_count": 6,
   "metadata": {
    "ExecuteTime": {
     "end_time": "2017-02-02T15:08:48.802165",
     "start_time": "2017-02-02T15:08:48.720010"
    },
    "collapsed": false
   },
   "outputs": [],
   "source": [
    "# Assign sourceName:[destinationName, ioos_category, dataType, colorBarMinimum, colorBarMaximum]\n",
    "dvars={}\n",
    "for var in list(nc.variables):\n",
    "    # default is ioos_category \"Unknown\".  Don't calculate limits yet.\n",
    "    erddap_type = dmap[nc[var].dtype.name]\n",
    "    dvars[var]={'destinationName':var, \n",
    "                'ioos_category':'Unknown', \n",
    "                'dataType':erddap_type, \n",
    "                'colorBarMinimum':None, \n",
    "                'colorBarMaximum':None}\n",
    "    # calculate limits for all vars that are not strings\n",
    "    if erddap_type is not 'String':\n",
    "        dvars[var]['colorBarMinimum']= nc[var][:].min()\n",
    "        dvars[var]['colorBarMaximum']= nc[var][:].max()\n",
    "    if np.ma.is_masked(dvars[var]['colorBarMaximum']):\n",
    "         dvars[var]['colorBarMaximum'] = None\n",
    "    if np.ma.is_masked(dvars[var]['colorBarMinimum']):\n",
    "         dvars[var]['colorBarMinimum'] = None\n",
    "\n",
    "# set destinationName, ioos_category, datatype and limits for coordinate variables\n",
    "tvar = nc.get_variables_by_attributes(axis='T')[0]\n",
    "dvars[tvar.name]={'destinationName':'time', \n",
    "            'ioos_category':'Time', \n",
    "            'dataType':dmap[tvar.dtype.name], \n",
    "            'colorBarMinimum':None, \n",
    "            'colorBarMaximum':None}\n",
    "\n",
    "xvar = nc.get_variables_by_attributes(axis='X')[0]\n",
    "dvars[xvar.name]={'destinationName':'longitude', \n",
    "            'ioos_category':'Location', \n",
    "            'dataType':dmap[xvar.dtype.name], \n",
    "            'colorBarMinimum':-180.0, \n",
    "            'colorBarMaximum':180.0}\n",
    "\n",
    "yvar = nc.get_variables_by_attributes(axis='Y')[0]\n",
    "dvars[yvar.name]={'destinationName':'latitude', \n",
    "            'ioos_category':'Location', \n",
    "            'dataType':dmap[yvar.dtype.name], \n",
    "            'colorBarMinimum':-90.0, \n",
    "            'colorBarMaximum':90.0}\n",
    "\n",
    "zvar = nc.get_variables_by_attributes(axis='Z')[0]\n",
    "dvars[zvar.name]={'destinationName':'altitude', \n",
    "            'ioos_category':'Location', \n",
    "            'dataType':dmap[zvar.dtype.name], \n",
    "            'colorBarMinimum':-8000.0, \n",
    "            'colorBarMaximum':8000.0}"
   ]
  },
  {
   "cell_type": "code",
   "execution_count": 7,
   "metadata": {
    "ExecuteTime": {
     "end_time": "2017-02-02T15:08:48.836230",
     "start_time": "2017-02-02T15:08:48.806173"
    },
    "collapsed": false
   },
   "outputs": [
    {
     "data": {
      "text/plain": [
       "{'backup_battery_current': {'colorBarMaximum': 0.0,\n",
       "  'colorBarMinimum': 0.0,\n",
       "  'dataType': 'double',\n",
       "  'destinationName': 'backup_battery_current',\n",
       "  'ioos_category': 'Unknown'},\n",
       " 'backup_battery_voltage': {'colorBarMaximum': 0.0,\n",
       "  'colorBarMinimum': 0.0,\n",
       "  'dataType': 'double',\n",
       "  'destinationName': 'backup_battery_voltage',\n",
       "  'ioos_category': 'Unknown'},\n",
       " 'crs': {'colorBarMaximum': None,\n",
       "  'colorBarMinimum': None,\n",
       "  'dataType': 'int',\n",
       "  'destinationName': 'crs',\n",
       "  'ioos_category': 'Unknown'},\n",
       " 'dcl_power_state': {'colorBarMaximum': 104,\n",
       "  'colorBarMinimum': 8,\n",
       "  'dataType': 'int',\n",
       "  'destinationName': 'dcl_power_state',\n",
       "  'ioos_category': 'Unknown'},\n",
       " 'dsl_power_state': {'colorBarMaximum': 1,\n",
       "  'colorBarMinimum': 1,\n",
       "  'dataType': 'int',\n",
       "  'destinationName': 'dsl_power_state',\n",
       "  'ioos_category': 'Unknown'},\n",
       " 'error_flags': {'colorBarMaximum': 0,\n",
       "  'colorBarMinimum': 0,\n",
       "  'dataType': 'int',\n",
       "  'destinationName': 'error_flags',\n",
       "  'ioos_category': 'Unknown'},\n",
       " 'esw_power_state': {'colorBarMaximum': 1,\n",
       "  'colorBarMinimum': 1,\n",
       "  'dataType': 'int',\n",
       "  'destinationName': 'esw_power_state',\n",
       "  'ioos_category': 'Unknown'},\n",
       " 'feature_type_instance': {'colorBarMaximum': None,\n",
       "  'colorBarMinimum': None,\n",
       "  'dataType': 'String',\n",
       "  'destinationName': 'feature_type_instance',\n",
       "  'ioos_category': 'Unknown'},\n",
       " 'fwwf_current': {'colorBarMaximum': 584.10000000000002,\n",
       "  'colorBarMinimum': 0.0,\n",
       "  'dataType': 'double',\n",
       "  'destinationName': 'fwwf_current',\n",
       "  'ioos_category': 'Unknown'},\n",
       " 'fwwf_power_flag': {'colorBarMaximum': 0,\n",
       "  'colorBarMinimum': 0,\n",
       "  'dataType': 'int',\n",
       "  'destinationName': 'fwwf_power_flag',\n",
       "  'ioos_category': 'Unknown'},\n",
       " 'fwwf_power_state': {'colorBarMaximum': 3,\n",
       "  'colorBarMinimum': 0,\n",
       "  'dataType': 'int',\n",
       "  'destinationName': 'fwwf_power_state',\n",
       "  'ioos_category': 'Unknown'},\n",
       " 'fwwf_voltage': {'colorBarMaximum': 12.0,\n",
       "  'colorBarMinimum': 0.0,\n",
       "  'dataType': 'double',\n",
       "  'destinationName': 'fwwf_voltage',\n",
       "  'ioos_category': 'Unknown'},\n",
       " 'gps_power_state': {'colorBarMaximum': 1.0,\n",
       "  'colorBarMinimum': 1.0,\n",
       "  'dataType': 'double',\n",
       "  'destinationName': 'gps_power_state',\n",
       "  'ioos_category': 'Unknown'},\n",
       " 'ground_fault_9522_fw': {'colorBarMaximum': 409.30000000000001,\n",
       "  'colorBarMinimum': -575.0,\n",
       "  'dataType': 'double',\n",
       "  'destinationName': 'ground_fault_9522_fw',\n",
       "  'ioos_category': 'Unknown'},\n",
       " 'ground_fault_enable': {'colorBarMaximum': 15,\n",
       "  'colorBarMinimum': 15,\n",
       "  'dataType': 'int',\n",
       "  'destinationName': 'ground_fault_enable',\n",
       "  'ioos_category': 'Unknown'},\n",
       " 'ground_fault_gps': {'colorBarMaximum': -14.1,\n",
       "  'colorBarMinimum': -89.900000000000006,\n",
       "  'dataType': 'double',\n",
       "  'destinationName': 'ground_fault_gps',\n",
       "  'ioos_category': 'Unknown'},\n",
       " 'ground_fault_main': {'colorBarMaximum': 185.90000000000001,\n",
       "  'colorBarMinimum': -312.10000000000002,\n",
       "  'dataType': 'double',\n",
       "  'destinationName': 'ground_fault_main',\n",
       "  'ioos_category': 'Unknown'},\n",
       " 'ground_fault_sbd': {'colorBarMaximum': -14.1,\n",
       "  'colorBarMinimum': -17.300000000000001,\n",
       "  'dataType': 'double',\n",
       "  'destinationName': 'ground_fault_sbd',\n",
       "  'ioos_category': 'Unknown'},\n",
       " 'heartbeat_delta': {'colorBarMaximum': 125,\n",
       "  'colorBarMinimum': 125,\n",
       "  'dataType': 'int',\n",
       "  'destinationName': 'heartbeat_delta',\n",
       "  'ioos_category': 'Unknown'},\n",
       " 'heartbeat_enable': {'colorBarMaximum': 1,\n",
       "  'colorBarMinimum': 1,\n",
       "  'dataType': 'int',\n",
       "  'destinationName': 'heartbeat_enable',\n",
       "  'ioos_category': 'Unknown'},\n",
       " 'heartbeat_threshold': {'colorBarMaximum': 2,\n",
       "  'colorBarMinimum': 2,\n",
       "  'dataType': 'int',\n",
       "  'destinationName': 'heartbeat_threshold',\n",
       "  'ioos_category': 'Unknown'},\n",
       " 'humidity': {'colorBarMaximum': 13.1,\n",
       "  'colorBarMinimum': 10.6,\n",
       "  'dataType': 'double',\n",
       "  'destinationName': 'humidity',\n",
       "  'ioos_category': 'Unknown'},\n",
       " 'iridium_current': {'colorBarMaximum': 171.09999999999999,\n",
       "  'colorBarMinimum': 0.0,\n",
       "  'dataType': 'double',\n",
       "  'destinationName': 'iridium_current',\n",
       "  'ioos_category': 'Unknown'},\n",
       " 'iridium_error_flag': {'colorBarMaximum': 0,\n",
       "  'colorBarMinimum': 0,\n",
       "  'dataType': 'int',\n",
       "  'destinationName': 'iridium_error_flag',\n",
       "  'ioos_category': 'Unknown'},\n",
       " 'iridium_power_state': {'colorBarMaximum': 0,\n",
       "  'colorBarMinimum': 0,\n",
       "  'dataType': 'int',\n",
       "  'destinationName': 'iridium_power_state',\n",
       "  'ioos_category': 'Unknown'},\n",
       " 'iridium_voltage': {'colorBarMaximum': 12.0,\n",
       "  'colorBarMinimum': 0.0,\n",
       "  'dataType': 'double',\n",
       "  'destinationName': 'iridium_voltage',\n",
       "  'ioos_category': 'Unknown'},\n",
       " 'latitude': {'colorBarMaximum': 90.0,\n",
       "  'colorBarMinimum': -90.0,\n",
       "  'dataType': 'double',\n",
       "  'destinationName': 'latitude',\n",
       "  'ioos_category': 'Location'},\n",
       " 'leak_detect_enable': {'colorBarMaximum': 3,\n",
       "  'colorBarMinimum': 3,\n",
       "  'dataType': 'int',\n",
       "  'destinationName': 'leak_detect_enable',\n",
       "  'ioos_category': 'Unknown'},\n",
       " 'leak_detect_voltage1': {'colorBarMaximum': 2361,\n",
       "  'colorBarMinimum': 2314,\n",
       "  'dataType': 'int',\n",
       "  'destinationName': 'leak_detect_voltage1',\n",
       "  'ioos_category': 'Unknown'},\n",
       " 'leak_detect_voltage2': {'colorBarMaximum': 2166,\n",
       "  'colorBarMinimum': 1218,\n",
       "  'dataType': 'int',\n",
       "  'destinationName': 'leak_detect_voltage2',\n",
       "  'ioos_category': 'Unknown'},\n",
       " 'longitude': {'colorBarMaximum': 180.0,\n",
       "  'colorBarMinimum': -180.0,\n",
       "  'dataType': 'double',\n",
       "  'destinationName': 'longitude',\n",
       "  'ioos_category': 'Location'},\n",
       " 'main_current': {'colorBarMaximum': 1842.0,\n",
       "  'colorBarMinimum': 354.0,\n",
       "  'dataType': 'double',\n",
       "  'destinationName': 'main_current',\n",
       "  'ioos_category': 'Unknown'},\n",
       " 'main_voltage': {'colorBarMaximum': 25.600000000000001,\n",
       "  'colorBarMinimum': 17.800000000000001,\n",
       "  'dataType': 'double',\n",
       "  'destinationName': 'main_voltage',\n",
       "  'ioos_category': 'Unknown'},\n",
       " 'platform': {'colorBarMaximum': None,\n",
       "  'colorBarMinimum': None,\n",
       "  'dataType': 'int',\n",
       "  'destinationName': 'platform',\n",
       "  'ioos_category': 'Unknown'},\n",
       " 'pps_source': {'colorBarMaximum': 0.0,\n",
       "  'colorBarMinimum': 0.0,\n",
       "  'dataType': 'double',\n",
       "  'destinationName': 'pps_source',\n",
       "  'ioos_category': 'Unknown'},\n",
       " 'pressure': {'colorBarMaximum': 7.0999999999999996,\n",
       "  'colorBarMinimum': 7.0,\n",
       "  'dataType': 'double',\n",
       "  'destinationName': 'pressure',\n",
       "  'ioos_category': 'Unknown'},\n",
       " 'sbd_message_pending': {'colorBarMaximum': 0.0,\n",
       "  'colorBarMinimum': 0.0,\n",
       "  'dataType': 'double',\n",
       "  'destinationName': 'sbd_message_pending',\n",
       "  'ioos_category': 'Unknown'},\n",
       " 'sbd_power_state': {'colorBarMaximum': 0.0,\n",
       "  'colorBarMinimum': 0.0,\n",
       "  'dataType': 'double',\n",
       "  'destinationName': 'sbd_power_state',\n",
       "  'ioos_category': 'Unknown'},\n",
       " 'temperature1': {'colorBarMaximum': 21.399999999999999,\n",
       "  'colorBarMinimum': 14.300000000000001,\n",
       "  'dataType': 'double',\n",
       "  'destinationName': 'temperature1',\n",
       "  'ioos_category': 'Unknown'},\n",
       " 'temperature2': {'colorBarMaximum': 19.199999999999999,\n",
       "  'colorBarMinimum': 12.199999999999999,\n",
       "  'dataType': 'double',\n",
       "  'destinationName': 'temperature2',\n",
       "  'ioos_category': 'Unknown'},\n",
       " 'time': {'colorBarMaximum': None,\n",
       "  'colorBarMinimum': None,\n",
       "  'dataType': 'int',\n",
       "  'destinationName': 'time',\n",
       "  'ioos_category': 'Time'},\n",
       " 'wake_code': {'colorBarMaximum': 2,\n",
       "  'colorBarMinimum': 2,\n",
       "  'dataType': 'int',\n",
       "  'destinationName': 'wake_code',\n",
       "  'ioos_category': 'Unknown'},\n",
       " 'wake_power_count': {'colorBarMaximum': 2921,\n",
       "  'colorBarMinimum': 2898,\n",
       "  'dataType': 'int',\n",
       "  'destinationName': 'wake_power_count',\n",
       "  'ioos_category': 'Unknown'},\n",
       " 'wake_time_count': {'colorBarMaximum': 0.0,\n",
       "  'colorBarMinimum': 0.0,\n",
       "  'dataType': 'double',\n",
       "  'destinationName': 'wake_time_count',\n",
       "  'ioos_category': 'Unknown'},\n",
       " 'z': {'colorBarMaximum': 8000.0,\n",
       "  'colorBarMinimum': -8000.0,\n",
       "  'dataType': 'double',\n",
       "  'destinationName': 'altitude',\n",
       "  'ioos_category': 'Location'}}"
      ]
     },
     "execution_count": 7,
     "metadata": {},
     "output_type": "execute_result"
    }
   ],
   "source": [
    "dvars"
   ]
  },
  {
   "cell_type": "code",
   "execution_count": 8,
   "metadata": {
    "ExecuteTime": {
     "end_time": "2017-02-02T15:08:48.874302",
     "start_time": "2017-02-02T15:08:48.842241"
    },
    "collapsed": false
   },
   "outputs": [],
   "source": [
    "template = env.get_template('timeSeries.xml')\n",
    "ds_xml = template.render(datasetID=datasetID,\n",
    "                      reloadEveryNMinutes=reloadEveryNMinutes,\n",
    "                      fileDir=fileDir,\n",
    "                      fileNameRegex=fileNameRegex,\n",
    "                      subsetVariables=subsetVariables,\n",
    "                      infoUrl=infoUrl,\n",
    "                      cdm_timeseries_variables=cdm_timeseries_variables,\n",
    "                      keywords=keywords,\n",
    "                      dvars=dvars)   "
   ]
  },
  {
   "cell_type": "code",
   "execution_count": 9,
   "metadata": {
    "ExecuteTime": {
     "end_time": "2017-02-02T15:08:48.889331",
     "start_time": "2017-02-02T15:08:48.877308"
    },
    "collapsed": false
   },
   "outputs": [],
   "source": [
    "with open(\"Output.xml\", \"w\") as text_file:\n",
    "    text_file.write(\"{}\".format(ds_xml))"
   ]
  },
  {
   "cell_type": "code",
   "execution_count": null,
   "metadata": {
    "collapsed": true
   },
   "outputs": [],
   "source": []
  }
 ],
 "metadata": {
  "_draft": {
   "nbviewer_url": "https://gist.github.com/12605aba841e2ca65d9a8f5afd5db286"
  },
  "gist": {
   "data": {
    "description": "testing/Untitled10.ipynb",
    "public": true
   },
   "id": "12605aba841e2ca65d9a8f5afd5db286"
  },
  "kernelspec": {
   "display_name": "Python 3",
   "language": "python",
   "name": "python3"
  },
  "language_info": {
   "codemirror_mode": {
    "name": "ipython",
    "version": 3
   },
   "file_extension": ".py",
   "mimetype": "text/x-python",
   "name": "python",
   "nbconvert_exporter": "python",
   "pygments_lexer": "ipython3",
   "version": "3.5.3"
  }
 },
 "nbformat": 4,
 "nbformat_minor": 2
}
