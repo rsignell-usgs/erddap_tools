{
 "cells": [
  {
   "cell_type": "markdown",
   "metadata": {},
   "source": [
    "# Create ERDDAP dataset.xml from NetCDF file\n",
    "Create an ERDDAP <dataset> snippet by reading a NetCDF CF-1.6 DSG **`featureType=TimeSeries`** file"
   ]
  },
  {
   "cell_type": "code",
   "execution_count": 1,
   "metadata": {
    "ExecuteTime": {
     "end_time": "2017-02-01T16:30:04.716664",
     "start_time": "2017-02-01T16:30:04.327655"
    },
    "collapsed": false
   },
   "outputs": [],
   "source": [
    "import numpy as np\n",
    "import netCDF4\n",
    "import random\n",
    "import string\n",
    "from jinja2 import Environment, FileSystemLoader\n",
    "env = Environment(loader=FileSystemLoader('templates'))"
   ]
  },
  {
   "cell_type": "code",
   "execution_count": 2,
   "metadata": {
    "ExecuteTime": {
     "end_time": "2017-02-01T16:30:04.752758",
     "start_time": "2017-02-01T16:30:04.719672"
    },
    "collapsed": false
   },
   "outputs": [
    {
     "name": "stdout",
     "output_type": "stream",
     "text": [
      "qfr3_kqdi_eiip\n"
     ]
    }
   ],
   "source": [
    "# generate random 12 digit string for DatasetID\n",
    "rstr =''.join(random.SystemRandom().choice(string.ascii_lowercase + string.digits) for _ in range(12))\n",
    "rstr=('{}_{}_{}'.format(rstr[:4],rstr[4:8],rstr[8:]))\n",
    "print(rstr)"
   ]
  },
  {
   "cell_type": "code",
   "execution_count": 3,
   "metadata": {
    "ExecuteTime": {
     "end_time": "2017-02-01T16:30:04.795869",
     "start_time": "2017-02-01T16:30:04.756768"
    },
    "collapsed": false
   },
   "outputs": [],
   "source": [
    "ncfile = '20170129.superv.nc'\n",
    "#ncfile = 'joe_example.nc'\n",
    "nc = netCDF4.Dataset(ncfile)"
   ]
  },
  {
   "cell_type": "code",
   "execution_count": 4,
   "metadata": {
    "ExecuteTime": {
     "end_time": "2017-02-01T16:30:04.820934",
     "start_time": "2017-02-01T16:30:04.800882"
    },
    "collapsed": false
   },
   "outputs": [],
   "source": [
    "# information specific to dataset\n",
    "datasetID='ooi_'+rstr\n",
    "reloadEveryNMinutes='10'\n",
    "fileDir='/usgs/data2/rsignell/data/ooi'\n",
    "fileNameRegex='.*superv\\.nc'\n",
    "subsetVariables='feature_type_instance, latitude, longitude, platform'\n",
    "infoUrl='http://ceoas.oregonstate.edu/ooi'\n",
    "cdm_timeseries_variables = subsetVariables\n",
    "keywords = ','.join(list(nc.variables))"
   ]
  },
  {
   "cell_type": "markdown",
   "metadata": {},
   "source": [
    "ERDDAP Valid values are: double (64-bit floating point), float (32-bit floating point), long (64-bit signed integer), int (32-bit signed integer), short (16-bit signed integer), byte (8-bit signed integer), char (essentially: 16-bit unsigned integer), boolean, and String (any length)."
   ]
  },
  {
   "cell_type": "code",
   "execution_count": 5,
   "metadata": {
    "ExecuteTime": {
     "end_time": "2017-02-01T16:30:04.842992",
     "start_time": "2017-02-01T16:30:04.827953"
    },
    "collapsed": true
   },
   "outputs": [],
   "source": [
    "dmap = {'float64':'double',\n",
    "        'float32':'float',\n",
    "        'int64':'long',\n",
    "        'int32':'int',\n",
    "        'int16':'short',\n",
    "        'b':'byte',\n",
    "        'uint16':'char',\n",
    "        'bool':'boolean',\n",
    "        'S1':'String',\n",
    "        'bytes8':'String'}"
   ]
  },
  {
   "cell_type": "code",
   "execution_count": 6,
   "metadata": {
    "ExecuteTime": {
     "end_time": "2017-02-01T16:30:04.949267",
     "start_time": "2017-02-01T16:30:04.849007"
    },
    "collapsed": false
   },
   "outputs": [],
   "source": [
    "# Assign sourceName:[destinationName, ioos_category, dataType, colorBarMinimum, colorBarMaximum]\n",
    "dvars={}\n",
    "for var in list(nc.variables):\n",
    "    # default is ioos_category \"Unknown\".  Don't calculate limits yet.\n",
    "    erddap_type = dmap[nc[var].dtype.name]\n",
    "    dvars[var]=[var,  'Unknown', erddap_type, None, None]\n",
    "    # calculate limits for all vars that are not strings\n",
    "    if erddap_type is not 'String':\n",
    "        dvars[var][3]= nc[var][:].min()\n",
    "        dvars[var][4]= nc[var][:].max()\n",
    "    if np.ma.is_masked(dvars[var][4]):\n",
    "        dvars[var][3:] = [None, None]\n",
    "    if np.ma.is_masked(dvars[var][4]):\n",
    "        dvars[var][3:] = [None, None]\n",
    "\n",
    "# replace destinationName, ioos_category, and limits for coordinate variables\n",
    "tvar = nc.get_variables_by_attributes(axis='T')[0]\n",
    "dvars[tvar.name] = [ 'time', 'Time', dmap[tvar.dtype.name], None, None]\n",
    "\n",
    "xvar = nc.get_variables_by_attributes(axis='X')[0]\n",
    "dvars[xvar.name] = ['longitude', 'Location', dmap[xvar.dtype.name], -180., 180.]\n",
    "\n",
    "yvar = nc.get_variables_by_attributes(axis='Y')[0]\n",
    "dvars[yvar.name] = [ 'latitude', 'Location', dmap[yvar.dtype.name], -90., 90.]\n",
    "\n",
    "zvar = nc.get_variables_by_attributes(axis='Z')[0]\n",
    "dvars[zvar.name] = [ 'altitude', 'Location', dmap[zvar.dtype.name], -8000., 8000.]"
   ]
  },
  {
   "cell_type": "code",
   "execution_count": 7,
   "metadata": {
    "ExecuteTime": {
     "end_time": "2017-02-01T16:30:04.992379",
     "start_time": "2017-02-01T16:30:04.953278"
    },
    "collapsed": false
   },
   "outputs": [],
   "source": [
    "template = env.get_template('timeSeries.xml')\n",
    "ds_xml = template.render(datasetID=datasetID,\n",
    "                      reloadEveryNMinutes=reloadEveryNMinutes,\n",
    "                      fileDir=fileDir,\n",
    "                      fileNameRegex=fileNameRegex,\n",
    "                      subsetVariables=subsetVariables,\n",
    "                      infoUrl=infoUrl,\n",
    "                      cdm_timeseries_variables=cdm_timeseries_variables,\n",
    "                      keywords=keywords,\n",
    "                      dvars=dvars)   "
   ]
  },
  {
   "cell_type": "code",
   "execution_count": 8,
   "metadata": {
    "ExecuteTime": {
     "end_time": "2017-02-01T16:30:05.004410",
     "start_time": "2017-02-01T16:30:04.995387"
    },
    "collapsed": false
   },
   "outputs": [],
   "source": [
    "with open(\"Output.xml\", \"w\") as text_file:\n",
    "    text_file.write(\"{}\".format(ds_xml))"
   ]
  },
  {
   "cell_type": "code",
   "execution_count": null,
   "metadata": {
    "collapsed": true
   },
   "outputs": [],
   "source": []
  }
 ],
 "metadata": {
  "_draft": {
   "nbviewer_url": "https://gist.github.com/12605aba841e2ca65d9a8f5afd5db286"
  },
  "gist": {
   "data": {
    "description": "testing/Untitled10.ipynb",
    "public": true
   },
   "id": "12605aba841e2ca65d9a8f5afd5db286"
  },
  "kernelspec": {
   "display_name": "Python 3",
   "language": "python",
   "name": "python3"
  },
  "language_info": {
   "codemirror_mode": {
    "name": "ipython",
    "version": 3
   },
   "file_extension": ".py",
   "mimetype": "text/x-python",
   "name": "python",
   "nbconvert_exporter": "python",
   "pygments_lexer": "ipython3",
   "version": "3.5.3"
  }
 },
 "nbformat": 4,
 "nbformat_minor": 2
}
